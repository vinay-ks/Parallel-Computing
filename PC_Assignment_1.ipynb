{
  "nbformat": 4,
  "nbformat_minor": 0,
  "metadata": {
    "colab": {
      "name": "PC Assignment 1.ipynb",
      "provenance": [],
      "collapsed_sections": [],
      "authorship_tag": "ABX9TyPGpvPagVPH+Wu84AU62ELJ",
      "include_colab_link": true
    },
    "kernelspec": {
      "name": "python3",
      "display_name": "Python 3"
    },
    "language_info": {
      "name": "python"
    }
  },
  "cells": [
    {
      "cell_type": "markdown",
      "metadata": {
        "id": "view-in-github",
        "colab_type": "text"
      },
      "source": [
        "<a href=\"https://colab.research.google.com/github/vinayks8055/Parallel-Computing/blob/master/PC_Assignment_1.ipynb\" target=\"_parent\"><img src=\"https://colab.research.google.com/assets/colab-badge.svg\" alt=\"Open In Colab\"/></a>"
      ]
    },
    {
      "cell_type": "markdown",
      "metadata": {
        "id": "OHEBFeilFN7s"
      },
      "source": [
        "## Traditional Method"
      ]
    },
    {
      "cell_type": "code",
      "metadata": {
        "colab": {
          "base_uri": "https://localhost:8080/"
        },
        "id": "QBUpn11oyH-G",
        "outputId": "b878dc0f-0d35-4290-900b-b8592e3de188"
      },
      "source": [
        "%%writefile input.txt\n",
        "3 3 3\n",
        "0.1 0.2"
      ],
      "execution_count": 1,
      "outputs": [
        {
          "output_type": "stream",
          "name": "stdout",
          "text": [
            "Writing input.txt\n"
          ]
        }
      ]
    },
    {
      "cell_type": "code",
      "metadata": {
        "colab": {
          "base_uri": "https://localhost:8080/"
        },
        "id": "MsxEX1DQxlbi",
        "outputId": "c2ba5c2e-f91d-4044-9bf0-3b6d363edccf"
      },
      "source": [
        "%%writefile mark1.cpp\n",
        "#include<bits/stdc++.h>\n",
        "\n",
        "#define fillZero(S, r, t)     for(int i=0;i<r;i++)  for(int j=i;j<t;j++){   S[i][j] = 0;    S[j][i] = 0;    }\n",
        "#define shuffleIndex(ele, zA, nzA)      for (unsigned int i = 0; i < zA; ++i)   ele.push_back(0);   for (unsigned int i = 0; i < nzA; ++i)  ele.push_back(1); random_shuffle(ele.begin(), ele.end());\n",
        "#define fillMatrix(ele,A,m,n)  it = ele.begin(); for(int i=0;i<m;i++){  for(int j=0;j<n;j++){ if(*it) A[i][j] = rand()%1000; it++;}}\n",
        "#define printMatrix(A,m,n)    for( int i = 0; i < m; i++){   for( int j = 0; j < n; j++)  cout<<A[i][j]<<'\\t';  cout<<'\\n'; }\n",
        "\n",
        "\n",
        "using namespace std;\n",
        "using namespace std::chrono;\n",
        "\n",
        "\n",
        "\n",
        "int main()\n",
        "{\n",
        "\tios_base::sync_with_stdio(false);\n",
        "\tcin.tie(0);cout.tie(0);\n",
        "\tfreopen(\"input.txt\", \"r\", stdin);\n",
        "\tauto start = high_resolution_clock::now();\n",
        "\n",
        "  int m,n,p;\n",
        "  double spA,spB;\n",
        "\tcin>>m>>n>>p>>spA>>spB;\n",
        " \n",
        "  srand(time(0));\n",
        " \n",
        " // Calculating the number of zero and non zero elements in the Arrays A and B\n",
        "  int tA = m*n;\n",
        "  int nzA = ceil(spA*tA);\n",
        "  int zA = tA - nzA;\n",
        "  int tB = n*p;\n",
        "  int nzB = ceil(spB*tB);\n",
        "  int zB = tB - nzB;\n",
        "\n",
        "//Generating the elements to fill up the matrix\n",
        "  int  A[m][n],B[n][p];\n",
        " \n",
        "  fillZero(A,m,n)\n",
        "  fillZero(B,n,p)\n",
        " \n",
        "\n",
        "  vector<int> ele;\n",
        "  auto it = ele.begin();\n",
        " \n",
        "  shuffleIndex(ele,zA,nzA)\n",
        "  fillMatrix(ele,A,m,n)\n",
        "  cout<<\"A:\\n\";\n",
        "  printMatrix(A,m,n)\n",
        "\n",
        "  ele.clear();\n",
        "  shuffleIndex(ele,zB,nzB)\n",
        "  fillMatrix(ele,B,n,p)\n",
        "  cout<<\"\\nB:\\n\";\n",
        "  printMatrix(B,n,p)\n",
        "\n",
        "//Multiplication\n",
        "  int C[m][p];\n",
        "  for (int i = 0; i < m; i++) {\n",
        "      for (int j = 0; j < p; j++) {\n",
        "          C[i][j] = 0;\n",
        "          for (int k = 0; k < n; k++)\n",
        "              C[i][j] += A[i][k] * B[k][j];\n",
        "      }\n",
        "  }\n",
        "  cout<<\"\\nC:\\n\";\n",
        "  printMatrix(C,m,p)\n",
        "\n",
        "\tauto stop = high_resolution_clock::now();\n",
        "\n",
        "\tauto duration = duration_cast<microseconds>(stop - start);\n",
        "\n",
        "\tcout << \"Time taken by function: \"\n",
        "\t\t<< duration.count() << \" microseconds\" << endl;\n",
        "\treturn 0;\n",
        "}"
      ],
      "execution_count": 2,
      "outputs": [
        {
          "output_type": "stream",
          "name": "stdout",
          "text": [
            "Writing mark1.cpp\n"
          ]
        }
      ]
    },
    {
      "cell_type": "code",
      "metadata": {
        "colab": {
          "base_uri": "https://localhost:8080/"
        },
        "id": "1582_fVOypJt",
        "outputId": "d7d1e6dc-64ee-4fb4-8055-c0458c9fbe2e"
      },
      "source": [
        "!g++ mark1.cpp\n",
        "!./a.out"
      ],
      "execution_count": 7,
      "outputs": [
        {
          "output_type": "stream",
          "name": "stdout",
          "text": [
            "A:\n",
            "0\t596\t0\t\n",
            "0\t0\t0\t\n",
            "0\t0\t0\t\n",
            "\n",
            "B:\n",
            "0\t0\t0\t\n",
            "0\t0\t192\t\n",
            "352\t0\t0\t\n",
            "\n",
            "C:\n",
            "0\t0\t114432\t\n",
            "0\t0\t0\t\n",
            "0\t0\t0\t\n",
            "Time taken by function: 54 microseconds\n"
          ]
        }
      ]
    },
    {
      "cell_type": "markdown",
      "metadata": {
        "id": "IruV3v7Ssc_2"
      },
      "source": [
        "## COO Format"
      ]
    },
    {
      "cell_type": "code",
      "metadata": {
        "colab": {
          "base_uri": "https://localhost:8080/"
        },
        "id": "g2yky0mSsgH4",
        "outputId": "6fa5f169-26ee-484a-be7d-1086f60d73c2"
      },
      "source": [
        "%%writefile mark2.cpp\n",
        "#include<bits/stdc++.h>\n",
        "\n",
        "#define fillZero(S, r, t)     for(int i=0;i<r;i++)  for(int j=i;j<t;j++){   S[i][j] = 0;    S[j][i] = 0;    }\n",
        "#define shuffleIndex(ele, zA, nzA)      for (unsigned int i = 0; i < zA; ++i)   ele.push_back(0);   for (unsigned int i = 0; i < nzA; ++i)  ele.push_back(1); random_shuffle(ele.begin(), ele.end());\n",
        "#define fillMatrix(ele,row,column,value,m,n)  it = ele.begin(); for(int i=0;i<m;i++){  for(int j=0;j<n;j++){ if(*it)   row.push_back(i); column.push_back(j); value.push_back(rand()%1000); it++;}}\n",
        "#define printMatrix(row,column,value,ptr,m,n)    for( int i = 0; i < m; i++){   for( int j = 0; j < n; j++) {  if(row[ptr]==i && column[ptr]==j){  cout<<value[ptr]<<\" \";ptr++;}else  cout<<\"0 \";    }  cout<<'\\n'; }\n",
        "\n",
        "using namespace std;\n",
        "using namespace std::chrono;\n",
        "\n",
        "\n",
        "\n",
        "int main()\n",
        "{\n",
        "\tios_base::sync_with_stdio(false);\n",
        "\tcin.tie(0);cout.tie(0);\n",
        "\tfreopen(\"input.txt\", \"r\", stdin);\n",
        "\tauto start = high_resolution_clock::now();\n",
        "\n",
        "  int m,n,p,ptr;\n",
        "  double spA,spB;\n",
        "\tcin>>m>>n>>p>>spA>>spB;\n",
        " \n",
        "  srand(time(0));\n",
        " \n",
        " // Calculating the number of zero and non zero elements in the Arrays A and B\n",
        "  int tA = m*n;\n",
        "  int nzA = ceil(spA*tA);\n",
        "  int zA = tA - nzA;\n",
        "  int tB = n*p;\n",
        "  int nzB = ceil(spB*tB);\n",
        "  int zB = tB - nzB;\n",
        "\n",
        "//Generating the elements to fill up the matrix\n",
        "  vector<int> rowA,columnA,valueA;\n",
        "  vector<int> rowB,columnB,valueB;\n",
        "  vector<int> ele;\n",
        "  auto it = ele.begin();\n",
        " \n",
        "  shuffleIndex(ele,zA,nzA)\n",
        "  fillMatrix(ele,rowA,columnA,valueA,m,n)\n",
        "  cout<<\"A:\\n\";\n",
        "  ptr=0;\n",
        "  printMatrix(rowA,columnA,valueA,ptr,m,n)\n",
        "\n",
        "  ele.clear();\n",
        "  shuffleIndex(ele,zB,nzB)\n",
        "  fillMatrix(ele,rowB,columnB,valueB,n,p)\n",
        "  cout<<\"\\nB:\\n\";\n",
        "  ptr=0;\n",
        "  printMatrix(rowB,columnB,valueB,ptr,n,p)\n",
        "\n",
        "//Multiplication\n",
        "  map<pair<int,int>,int> mp;\n",
        "  map<pair<int,int>,int> :: iterator itr;\n",
        "  for (int i = 0; i < columnA.size(); i++) {\n",
        "      for (int j = 0; j < rowB.size(); j++) {\n",
        "          if(columnA[i] == rowB[j]){\n",
        "              mp[{rowA[i],columnB[j]}] += valueA[i] * valueB[j];\n",
        "          }\n",
        "      }\n",
        "  }\n",
        "  itr = mp.begin();\n",
        "  cout<<\"\\nC:\\n\";\n",
        "  for( int i = 0; i < m; i++){   \n",
        "      for( int j = 0; j < n; j++) {  \n",
        "          if(itr->first.first==i && itr->first.second==j){ \n",
        "               cout<<itr->second<<\" \";itr++;}\n",
        "          else  cout<<\"0 \";    \n",
        "          }  \n",
        "      cout<<'\\n';\n",
        "  }\n",
        "\tauto stop = high_resolution_clock::now();\n",
        "\n",
        "\tauto duration = duration_cast<microseconds>(stop - start);\n",
        "\n",
        "\tcout << \"Time taken by function: \"\n",
        "\t\t<< duration.count() << \" microseconds\" << endl;\n",
        "\treturn 0;\n",
        "}"
      ],
      "execution_count": 10,
      "outputs": [
        {
          "output_type": "stream",
          "name": "stdout",
          "text": [
            "Overwriting mark2.cpp\n"
          ]
        }
      ]
    },
    {
      "cell_type": "code",
      "metadata": {
        "colab": {
          "base_uri": "https://localhost:8080/"
        },
        "id": "UXMw1yGwsjZu",
        "outputId": "79e3080f-a539-4e46-f6e9-a4f9eebe03b7"
      },
      "source": [
        "!g++ mark2.cpp\n",
        "!./a.out"
      ],
      "execution_count": 16,
      "outputs": [
        {
          "output_type": "stream",
          "name": "stdout",
          "text": [
            "A:\n",
            "0 0 0 \n",
            "0 0 0 \n",
            "271 0 0 \n",
            "\n",
            "B:\n",
            "99 0 0 \n",
            "0 688 0 \n",
            "0 0 0 \n",
            "\n",
            "C:\n",
            "0 0 0 \n",
            "0 0 0 \n",
            "26829 0 0 \n",
            "Time taken by function: 90 microseconds\n"
          ]
        }
      ]
    },
    {
      "cell_type": "markdown",
      "metadata": {
        "id": "SLFOzix9RWfA"
      },
      "source": [
        "## Graph between runtime of Traditional method and COO Format"
      ]
    },
    {
      "cell_type": "code",
      "metadata": {
        "colab": {
          "base_uri": "https://localhost:8080/",
          "height": 295
        },
        "id": "oWmeDdRFRV8i",
        "outputId": "0d02b324-bd6b-4a62-8b72-140f5bc3cde2"
      },
      "source": [
        "# importing the required module\n",
        "import matplotlib.pyplot as plt\n",
        "\n",
        "# x axis values\n",
        "x = [\"TM\",\"COO\"]\n",
        "# corresponding y axis values\n",
        "y = [54,90]\n",
        "\n",
        "# plotting the points\n",
        "plt.plot(x, y)\n",
        "\n",
        "# naming the x axis\n",
        "plt.xlabel('Storage Method')\n",
        "# naming the y axis\n",
        "plt.ylabel('Time (in microseconds)')\n",
        "\n",
        "# giving a title to my graph\n",
        "plt.title('Runtime Comparision')\n",
        "\n",
        "# function to show the plot\n",
        "plt.show()\n"
      ],
      "execution_count": 20,
      "outputs": [
        {
          "output_type": "display_data",
          "data": {
            "image/png": "[encoded data removed]",
            "text/plain": [
              "<Figure size 432x288 with 1 Axes>"
            ]
          },
          "metadata": {
            "needs_background": "light"
          }
        }
      ]
    },
    {
      "cell_type": "markdown",
      "metadata": {
        "id": "rYOZ8hQ4Llqj"
      },
      "source": [
        "## CSR Format"
      ]
    },
    {
      "cell_type": "code",
      "metadata": {
        "colab": {
          "base_uri": "https://localhost:8080/"
        },
        "id": "Sl1inRUKzKhR",
        "outputId": "970d366c-28e8-4c76-f2d7-62c606d58ee7"
      },
      "source": [
        "%%writefile mark3.cpp\n",
        "#include<bits/stdc++.h>\n",
        "\n",
        "#define fillZero(S, r, t)     for(int i=0;i<r;i++)  for(int j=i;j<t;j++){   S[i][j] = 0;    S[j][i] = 0;    }\n",
        "#define shuffleIndex(ele, zA, nzA)      for (unsigned int i = 0; i < zA; ++i)   ele.push_back(0);   for (unsigned int i = 0; i < nzA; ++i)  ele.push_back(1); random_shuffle(ele.begin(), ele.end());\n",
        "#define fillMatrix(ele,row,column,value,m,n)  it = ele.begin(); for(int i=0;i<m;i++){  for(int j=0;j<n;j++){ if(*it)   row.push_back(i); column.push_back(j); value.push_back(rand()%1000); it++;}}\n",
        "#define printMatrix(row,column,value,ptr,m,n)    for( int i = 0; i < m; i++){   for( int j = 0; j < n; j++) {  if(row[ptr]==i && column[ptr]==j){  cout<<value[ptr]<<\" \";ptr++;}else  cout<<\"0 \";    }  cout<<'\\n'; }\n",
        "\n",
        "using namespace std;\n",
        "using namespace std::chrono;\n",
        "\n",
        "\n",
        "\n",
        "int main()\n",
        "{\n",
        "\tios_base::sync_with_stdio(false);\n",
        "\tcin.tie(0);cout.tie(0);\n",
        "\tfreopen(\"input.txt\", \"r\", stdin);\n",
        "\tauto start = high_resolution_clock::now();\n",
        "\n",
        "  int m,n,p,ptr;\n",
        "  double spA,spB;\n",
        "\tcin>>m>>n>>p>>spA>>spB;\n",
        " \n",
        "  srand(time(0));\n",
        " \n",
        " // Calculating the number of zero and non zero elements in the Arrays A and B\n",
        "  int tA = m*n;\n",
        "  int nzA = ceil(spA*tA);\n",
        "  int zA = tA - nzA;\n",
        "  int tB = n*p;\n",
        "  int nzB = ceil(spB*tB);\n",
        "  int zB = tB - nzB;\n",
        "\n",
        "//Generating the elements to fill up the matrix\n",
        "\n",
        "\n",
        "//Multiplication\n",
        "\n",
        "\n",
        "\n",
        "\tauto stop = high_resolution_clock::now();\n",
        "\n",
        "\tauto duration = duration_cast<microseconds>(stop - start);\n",
        "\n",
        "\tcout << \"Time taken by function: \"\n",
        "\t\t<< duration.count() << \" microseconds\" << endl;\n",
        "\treturn 0;\n",
        "}"
      ],
      "execution_count": null,
      "outputs": [
        {
          "output_type": "stream",
          "name": "stdout",
          "text": [
            "Overwriting sample.cpp\n"
          ]
        }
      ]
    },
    {
      "cell_type": "code",
      "metadata": {
        "id": "BbkN6sv5zQr1"
      },
      "source": [
        "!g++ mark3.cpp\n",
        "!./a.out"
      ],
      "execution_count": null,
      "outputs": []
    }
  ]
}